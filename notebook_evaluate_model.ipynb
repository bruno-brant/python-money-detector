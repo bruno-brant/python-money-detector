{
 "cells": [
  {
   "cell_type": "code",
   "execution_count": null,
   "metadata": {},
   "outputs": [],
   "source": [
    "import torch\n",
    "\n",
    "from money_counter import data, engine, models, training, utils"
   ]
  },
  {
   "cell_type": "code",
   "execution_count": null,
   "metadata": {},
   "outputs": [],
   "source": [
    "device = utils.get_device()\n",
    "print(device)"
   ]
  },
  {
   "cell_type": "code",
   "execution_count": null,
   "metadata": {},
   "outputs": [],
   "source": [
    "data_loader_train, data_loader_test = data.get_data_loaders('')\n",
    "model, model_name = models.get_fasterrcnn_v2_pretrained()\n",
    "version_manager = models.VersionManager('../model_state')\n",
    "\n",
    "version_manager.load_model(model_name, model)\n",
    "\n",
    "model.to(device)\n",
    "model.eval()\n",
    "\n",
    "_ = engine.evaluate(model, data_loader_test, device=device)\n"
   ]
  }
 ],
 "metadata": {
  "kernelspec": {
   "display_name": ".VENV",
   "language": "python",
   "name": "python3"
  },
  "language_info": {
   "codemirror_mode": {
    "name": "ipython",
    "version": 3
   },
   "file_extension": ".py",
   "mimetype": "text/x-python",
   "name": "python",
   "nbconvert_exporter": "python",
   "pygments_lexer": "ipython3",
   "version": "3.10.8"
  },
  "orig_nbformat": 4,
  "vscode": {
   "interpreter": {
    "hash": "dca31d16848f20992eb89f8a7472940a952ffc02113be43df95621585f721965"
   }
  }
 },
 "nbformat": 4,
 "nbformat_minor": 2
}
