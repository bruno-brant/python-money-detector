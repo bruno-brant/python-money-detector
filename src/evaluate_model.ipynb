{
 "cells": [
  {
   "cell_type": "code",
   "execution_count": 1,
   "metadata": {},
   "outputs": [],
   "source": [
    "import torch\n",
    "from money_counter import data, models, training, engine\n"
   ]
  },
  {
   "cell_type": "code",
   "execution_count": 2,
   "metadata": {},
   "outputs": [],
   "source": [
    "device = torch.device('cuda') if torch.cuda.is_available() else torch.device('cpu')"
   ]
  },
  {
   "cell_type": "code",
   "execution_count": 3,
   "metadata": {},
   "outputs": [
    {
     "name": "stdout",
     "output_type": "stream",
     "text": [
      "Loading model from ../model_state/fasterrcnn_resnet50_fpn-pretrained/epoch_54.pth\n",
      "Loaded model from ../model_state/fasterrcnn_resnet50_fpn-pretrained/epoch_54.pth\n",
      "creating index...\n",
      "index created!\n",
      "Test:  [ 0/13]  eta: 0:00:39  model_time: 2.0164 (2.0164)  evaluator_time: 0.0230 (0.0230)  time: 3.0766  data: 0.8052  max mem: 2571\n",
      "Test:  [12/13]  eta: 0:00:01  model_time: 0.4876 (0.5460)  evaluator_time: 0.0160 (0.0209)  time: 1.5393  data: 0.9007  max mem: 2574\n",
      "Test: Total time: 0:00:20 (1.5452 s / it)\n",
      "Averaged stats: model_time: 0.4876 (0.5460)  evaluator_time: 0.0160 (0.0209)\n",
      "Accumulating evaluation results...\n",
      "DONE (t=0.01s).\n",
      "IoU metric: bbox\n",
      " Average Precision  (AP) @[ IoU=0.50:0.95 | area=   all | maxDets=100 ] = -1.000\n",
      " Average Precision  (AP) @[ IoU=0.50      | area=   all | maxDets=100 ] = -1.000\n",
      " Average Precision  (AP) @[ IoU=0.75      | area=   all | maxDets=100 ] = -1.000\n",
      " Average Precision  (AP) @[ IoU=0.50:0.95 | area= small | maxDets=100 ] = -1.000\n",
      " Average Precision  (AP) @[ IoU=0.50:0.95 | area=medium | maxDets=100 ] = -1.000\n",
      " Average Precision  (AP) @[ IoU=0.50:0.95 | area= large | maxDets=100 ] = -1.000\n",
      " Average Recall     (AR) @[ IoU=0.50:0.95 | area=   all | maxDets=  1 ] = -1.000\n",
      " Average Recall     (AR) @[ IoU=0.50:0.95 | area=   all | maxDets= 10 ] = -1.000\n",
      " Average Recall     (AR) @[ IoU=0.50:0.95 | area=   all | maxDets=100 ] = -1.000\n",
      " Average Recall     (AR) @[ IoU=0.50:0.95 | area= small | maxDets=100 ] = -1.000\n",
      " Average Recall     (AR) @[ IoU=0.50:0.95 | area=medium | maxDets=100 ] = -1.000\n",
      " Average Recall     (AR) @[ IoU=0.50:0.95 | area= large | maxDets=100 ] = -1.000\n"
     ]
    },
    {
     "data": {
      "text/plain": [
       "<money_counter.coco_eval.CocoEvaluator at 0x1be6958dbd0>"
      ]
     },
     "execution_count": 3,
     "metadata": {},
     "output_type": "execute_result"
    }
   ],
   "source": [
    "data_loader_train, data_loader_test = data.get_data_loaders('../assets/coins_dataset/')\n",
    "model, model_name = models.get_fasterrcnn_pretrained()\n",
    "version_manager = models.VersionManager('../model_state')\n",
    "\n",
    "version_manager.load_model(model_name, model)\n",
    "\n",
    "model.to(device)\n",
    "model.eval()\n",
    "\n",
    "_ = engine.evaluate(model, data_loader_test, device=device)\n"
   ]
  }
 ],
 "metadata": {
  "kernelspec": {
   "display_name": "Python 3.10.6 ('.venv': venv)",
   "language": "python",
   "name": "python3"
  },
  "language_info": {
   "codemirror_mode": {
    "name": "ipython",
    "version": 3
   },
   "file_extension": ".py",
   "mimetype": "text/x-python",
   "name": "python",
   "nbconvert_exporter": "python",
   "pygments_lexer": "ipython3",
   "version": "3.10.6"
  },
  "orig_nbformat": 4,
  "vscode": {
   "interpreter": {
    "hash": "f7f52dee16cfe0c6d4be518e3fb68450c8154cbd9c3f73f0482143bf72f6a6df"
   }
  }
 },
 "nbformat": 4,
 "nbformat_minor": 2
}
