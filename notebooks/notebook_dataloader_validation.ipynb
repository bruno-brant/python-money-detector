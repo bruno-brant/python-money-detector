{
 "cells": [
  {
   "cell_type": "markdown",
   "metadata": {},
   "source": [
    "# Initialize pytorch"
   ]
  },
  {
   "cell_type": "code",
   "execution_count": null,
   "metadata": {},
   "outputs": [],
   "source": [
    "# Train torchvision with our dataset:\n",
    "# https://pytorch.org/tutorials/beginner/finetuning_torchvision_models_tutorial.html\n",
    "# https://pytorch.org/tutorials/intermediate/torchvision_tutorial.html\n",
    "\n",
    "from __future__ import division, print_function\n",
    "\n",
    "import copy\n",
    "import json\n",
    "import os\n",
    "import time\n",
    "\n",
    "import matplotlib.pyplot as plt\n",
    "import numpy as np\n",
    "import torch\n",
    "import torch.nn as nn\n",
    "import torch.optim as optim\n",
    "import torchvision\n",
    "from torchvision import datasets, models, transforms\n",
    "\n",
    "from money_counter import data, utils\n",
    "\n",
    "# Torch enable cuda\n",
    "device = utils.get_device()\n",
    "\n",
    "print(\"=======================================================================\")\n",
    "print(\" PyTorch version:     \", torch.__version__)\n",
    "print(\" Torchvision version: \", torchvision.__version__)\n",
    "print(\" Device:              \", device)\n",
    "print(\"=======================================================================\")\n"
   ]
  },
  {
   "cell_type": "markdown",
   "metadata": {},
   "source": [
    "# Check datasets"
   ]
  },
  {
   "cell_type": "code",
   "execution_count": null,
   "metadata": {},
   "outputs": [],
   "source": [
    "from money_counter.data import get_data_loaders\n",
    "\n",
    "dataloader_train, dataloader_test = get_data_loaders(constants.DATASET_DIR)"
   ]
  },
  {
   "cell_type": "code",
   "execution_count": null,
   "metadata": {},
   "outputs": [],
   "source": [
    "from matplotlib import patches\n",
    "\n",
    "\n",
    "images, targets = next(iter(dataloader_train))\n",
    "\n",
    "for image, target in zip(images, targets):\n",
    "\t# Render image and bounding boxes\n",
    "\tfig, ax = plt.subplots(1, 1, figsize=(16, 8))\n",
    "\tax.imshow(image.permute(1, 2, 0))\n",
    "\t\n",
    "\tfor box in target['boxes']:\n",
    "\t\t# render the box on the image\n",
    "\t\trect = patches.Rectangle([box[0], box[1]], box[2] - box[0], box[3] - box[1], linewidth=1, edgecolor='r', facecolor='none')\t\n",
    "\t\tax.add_patch(rect)\n",
    "\t\n",
    "\t\n",
    "\n"
   ]
  }
 ],
 "metadata": {
  "kernelspec": {
   "display_name": ".venv",
   "language": "python",
   "name": "python3"
  },
  "language_info": {
   "codemirror_mode": {
    "name": "ipython",
    "version": 3
   },
   "file_extension": ".py",
   "mimetype": "text/x-python",
   "name": "python",
   "nbconvert_exporter": "python",
   "pygments_lexer": "ipython3",
   "version": "3.10.8 (tags/v3.10.8:aaaf517, Oct 11 2022, 16:50:30) [MSC v.1933 64 bit (AMD64)]"
  },
  "orig_nbformat": 4,
  "vscode": {
   "interpreter": {
    "hash": "dca31d16848f20992eb89f8a7472940a952ffc02113be43df95621585f721965"
   }
  }
 },
 "nbformat": 4,
 "nbformat_minor": 2
}
