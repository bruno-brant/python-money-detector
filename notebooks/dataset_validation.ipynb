{
 "cells": [
  {
   "cell_type": "markdown",
   "metadata": {},
   "source": [
    "# Verifying the Dataset"
   ]
  },
  {
   "cell_type": "markdown",
   "metadata": {},
   "source": [
    "## Imports"
   ]
  },
  {
   "cell_type": "code",
   "execution_count": null,
   "metadata": {},
   "outputs": [],
   "source": [
    "import pandas as pd\n",
    "import numpy as np\n",
    "import matplotlib.pyplot as plt\n",
    "import json\n",
    "import PIL\n"
   ]
  },
  {
   "cell_type": "markdown",
   "metadata": {},
   "source": [
    "## Constants"
   ]
  },
  {
   "cell_type": "code",
   "execution_count": null,
   "metadata": {},
   "outputs": [],
   "source": [
    "UNKNOWN = 'Unknown'\n",
    "VALUES = ['5', '10', '25', '50', '100']\n",
    "SIDES = ['Up', 'Down']\n",
    "EDITIONS = ['Old', 'New']\n",
    "SORTED_COINS_DIR = './sorted_coins'"
   ]
  },
  {
   "cell_type": "markdown",
   "metadata": {},
   "source": [
    "## Load JSON"
   ]
  },
  {
   "cell_type": "code",
   "execution_count": null,
   "metadata": {},
   "outputs": [],
   "source": [
    "def load_json(filename):\n",
    "\twith open(filename) as f:\n",
    "\t\treturn json.load(f)"
   ]
  },
  {
   "cell_type": "code",
   "execution_count": null,
   "metadata": {},
   "outputs": [],
   "source": [
    "import os\n",
    "from typing import Dict\n",
    "from ViaV2Json import ImageMetadata\n",
    "\n",
    "filename = list(filter(lambda name: name.startswith('TCC_MBA_Coins') , os.listdir('.')))[-1]\n",
    "json_data = load_json(filename)\n",
    "\n",
    "# Image metadata is where we have the regions we need\n",
    "images_data: Dict[str, ImageMetadata] = json_data['_via_img_metadata']"
   ]
  },
  {
   "cell_type": "code",
   "execution_count": null,
   "metadata": {},
   "outputs": [],
   "source": [
    "from ViaV2Json import RegionAttributes\n",
    "\n",
    "def is_uncertain(attributes: RegionAttributes):\n",
    "\t\"\"\"\n",
    "\tReturns true if the region is uncertain\n",
    "\t\"\"\"\n",
    "\t\n",
    "\treturn attributes.get('Uncertain', {}).get('X', False)\n"
   ]
  },
  {
   "cell_type": "markdown",
   "metadata": {},
   "source": [
    "## Check for classification mistakes"
   ]
  },
  {
   "cell_type": "code",
   "execution_count": null,
   "metadata": {},
   "outputs": [],
   "source": [
    "# Until image 20220827_130606, old coins with values 5, 10 or 50 are undistinguishable when down, so they must be uncertain.\n",
    "from colorama import Style\n",
    "\n",
    "print(Style.BRIGHT + f'Classification Errors')\n",
    "\n",
    "for metadata in images_data.values():\n",
    "\tfilename = metadata['filename']\n",
    "\t\n",
    "\tif filename >= '20220827_130606.jpg': \n",
    "\t\tcontinue\n",
    "\t\n",
    "\tfor regionId, region in enumerate(metadata['regions']): \n",
    "\t\tregion_attr = region['region_attributes']\n",
    "\t\t\n",
    "\t\tside, edition, value = region_attr['Side'], region_attr['Edition'], region_attr['Value']\n",
    "\n",
    "\t\tif side == 'Down' and edition == 'Old' and int(value) != 25 and is_uncertain(region_attr) == False:\n",
    "\t\t\tprint(f'{filename} - {regionId + 1}')\n",
    "\n"
   ]
  },
  {
   "cell_type": "markdown",
   "metadata": {},
   "source": [
    "## Dataset Balancing Analysis\n"
   ]
  },
  {
   "cell_type": "markdown",
   "metadata": {},
   "source": [
    "Let's verify if the dataset is balanced between classes."
   ]
  },
  {
   "cell_type": "markdown",
   "metadata": {},
   "source": [
    "### Create Dataframe\n"
   ]
  },
  {
   "cell_type": "code",
   "execution_count": null,
   "metadata": {},
   "outputs": [],
   "source": [
    "# Load dataframe df with all the image data\n",
    "from colorama import Fore, Back, Style\n",
    "\n",
    "df = pd.DataFrame()\n",
    "\n",
    "# Get number of coins for each type\n",
    "for image in images_data:\n",
    "    for regionId, region in enumerate(images_data[image]['regions']):\n",
    "        attributes = region['region_attributes']\n",
    "        # add row to dataframe with image name, region id, coin value, edition and side\n",
    "        try:\n",
    "            df = df.append({\n",
    "                # image name is just the first 19 characters of the image path\n",
    "                'ImageName': image[:19],\n",
    "                'ImageId': image,\n",
    "                'RegionId': regionId + 1,\n",
    "                'Value': attributes.get('Value', UNKNOWN),\n",
    "                'Edition': attributes.get('Edition', UNKNOWN),\n",
    "                'Side': attributes.get('Side', UNKNOWN),\n",
    "                'Uncertain': is_uncertain(attributes),\n",
    "                #'FullName': f'{attributes[\"Value\"]} {attributes[\"Edition\"]} {attributes[\"Side\"]}'\n",
    "            }, ignore_index=True)\n",
    "        except:\n",
    "            print(Fore.RED + Style.BRIGHT +\n",
    "                  f'Error on image {image[:19]} region {regionId + 1}', )\n",
    "\n",
    "df.head()\n"
   ]
  },
  {
   "cell_type": "markdown",
   "metadata": {},
   "source": [
    "### Remove uncertain classes"
   ]
  },
  {
   "cell_type": "code",
   "execution_count": null,
   "metadata": {},
   "outputs": [],
   "source": [
    "# Those classes are the ones that we are not sure about the value of the coin.\n",
    "print(f'Number of coins: {len(df)}')\n",
    "df = df[df['Uncertain'] == 0]\n",
    "print(f'Number of coins without uncertain: {len(df)}')"
   ]
  },
  {
   "cell_type": "markdown",
   "metadata": {},
   "source": [
    "### Analyze the distribution of coins"
   ]
  },
  {
   "cell_type": "code",
   "execution_count": null,
   "metadata": {},
   "outputs": [],
   "source": [
    "# Create charts\n",
    "figsize = (13,13)\n",
    "# Create a pie chart for the coin values\n",
    "plt.subplot(1, 3, 1)\n",
    "plt.title('Coin Values')\n",
    "df[df['Value'] != UNKNOWN]['Value'].value_counts().plot.pie(autopct='%1.1f%%', figsize=figsize)\n",
    "\n",
    "# Create a pie chart for the coin sides\n",
    "plt.subplot(1, 3, 2)\n",
    "plt.title('Coin Sides')\n",
    "df[df['Side'] != UNKNOWN]['Side'].value_counts().plot.pie(autopct='%1.1f%%', figsize=figsize)\n",
    "\n",
    "# Create a pie chart for the coin editions\n",
    "plt.subplot(1, 3, 3)\n",
    "plt.title('Coin Editions')\n",
    "df[df['Edition'] != UNKNOWN]['Edition'].value_counts().plot.pie(autopct='%1.1f%%', figsize=figsize)"
   ]
  },
  {
   "cell_type": "markdown",
   "metadata": {},
   "source": [
    "## Verify if the coins are correctly classified\n"
   ]
  },
  {
   "cell_type": "code",
   "execution_count": null,
   "metadata": {},
   "outputs": [],
   "source": [
    "from PIL import Image, ImageOps, ImageDraw, ImageFont\n",
    "from ViaV2Json import ShapeAttributes, get_bounding_box\n",
    "\n",
    "def crop_region(image: Image.Image, region_id: int, shape: ShapeAttributes) -> Image.Image:\n",
    "    \"\"\"\n",
    "    Crops the region from the image, and returns the cropped image.\n",
    "    \"\"\"\n",
    "\n",
    "    # Get the bounding box for the region\n",
    "    topleft, bottomright = get_bounding_box(shape)\n",
    "\n",
    "    return image.crop((*topleft, *bottomright))\n"
   ]
  },
  {
   "cell_type": "code",
   "execution_count": null,
   "metadata": {},
   "outputs": [],
   "source": [
    "from itertools import product\n",
    "from PIL import Image\n",
    "from typing import Iterable, Tuple, List\n",
    "\n",
    "import os\n",
    "import shutil\n",
    "\n",
    "# Remove dir if it exists\n",
    "if os.path.exists(SORTED_COINS_DIR):\n",
    "    # Remove recursively\n",
    "    shutil.rmtree(SORTED_COINS_DIR)\n",
    "\n",
    "os.mkdir(SORTED_COINS_DIR)\n",
    "\n",
    "count = len(images_data.values())\n",
    "\n",
    "for image_idx, metadata in enumerate(images_data.values()):\n",
    "    filename = metadata['filename']\n",
    "    percent = int((image_idx + 1) / count * 100)\n",
    "    \n",
    "    print(f'Processing {filename}... ({percent}%)')\n",
    "\n",
    "    with Image.open('./Moedas/' + filename) as image:\n",
    "        image = ImageOps.exif_transpose(image)\n",
    "\n",
    "        for region_id, region in enumerate(metadata['regions']):\n",
    "\n",
    "            attributes = region['region_attributes']\n",
    "            directory = f'{SORTED_COINS_DIR}/{attributes.get(\"Value\", UNKNOWN)}'\n",
    "\n",
    "            if not os.path.isdir(directory):\n",
    "                os.mkdir(directory)\n",
    "\n",
    "            crop = crop_region(image, region_id, region['shape_attributes'])\n",
    "            crop.save(f'{directory}/{filename}_{region_id}.png')\n"
   ]
  }
 ],
 "metadata": {
  "kernelspec": {
   "display_name": ".venv",
   "language": "python",
   "name": "python3"
  },
  "language_info": {
   "codemirror_mode": {
    "name": "ipython",
    "version": 3
   },
   "file_extension": ".py",
   "mimetype": "text/x-python",
   "name": "python",
   "nbconvert_exporter": "python",
   "pygments_lexer": "ipython3",
   "version": "3.10.8 (tags/v3.10.8:aaaf517, Oct 11 2022, 16:50:30) [MSC v.1933 64 bit (AMD64)]"
  },
  "orig_nbformat": 4,
  "vscode": {
   "interpreter": {
    "hash": "dca31d16848f20992eb89f8a7472940a952ffc02113be43df95621585f721965"
   }
  }
 },
 "nbformat": 4,
 "nbformat_minor": 2
}
