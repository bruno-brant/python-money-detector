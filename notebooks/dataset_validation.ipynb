{
 "cells": [
  {
   "cell_type": "markdown",
   "metadata": {},
   "source": [
    "# Verifying the Dataset"
   ]
  },
  {
   "cell_type": "markdown",
   "metadata": {},
   "source": [
    "## Imports"
   ]
  },
  {
   "cell_type": "code",
   "execution_count": 14,
   "metadata": {},
   "outputs": [],
   "source": [
    "import sys\n",
    "if '..' not in sys.path:\n",
    "\tsys.path.append('..')"
   ]
  },
  {
   "cell_type": "code",
   "execution_count": 36,
   "metadata": {},
   "outputs": [],
   "source": [
    "import json\n",
    "import os\n",
    "import shutil\n",
    "from itertools import product\n",
    "from typing import Iterable, List, Tuple\n",
    "\n",
    "import matplotlib.pyplot as plt\n",
    "import numpy as np\n",
    "import pandas as pd\n",
    "import PIL\n",
    "import reload\n",
    "from PIL import Image, ImageDraw, ImageFont, ImageOps"
   ]
  },
  {
   "cell_type": "code",
   "execution_count": 37,
   "metadata": {},
   "outputs": [],
   "source": [
    "%reload vgg_image_annotation\n",
    "from vgg_image_annotation.v2 import ShapeAttributes, get_bounding_box\n"
   ]
  },
  {
   "cell_type": "markdown",
   "metadata": {},
   "source": [
    "## Constants"
   ]
  },
  {
   "cell_type": "code",
   "execution_count": 16,
   "metadata": {},
   "outputs": [],
   "source": [
    "UNKNOWN = 'Unknown'\n",
    "VALUES = ['5', '10', '25', '50', '100']\n",
    "SIDES = ['Up', 'Down']\n",
    "EDITIONS = ['Old', 'New']\n",
    "SORTED_COINS_DIR = '../sorted_coins'\n",
    "DATASET_PATH = os.environ['COINS_DATASET_PATH']\n"
   ]
  },
  {
   "cell_type": "markdown",
   "metadata": {},
   "source": [
    "## Load JSON"
   ]
  },
  {
   "cell_type": "code",
   "execution_count": 39,
   "metadata": {},
   "outputs": [],
   "source": [
    "from typing import Dict\n",
    "from vgg_image_annotation.v2 import ImageMetadata, RegionAttributes, load_via_v2_file\n",
    "\n",
    "json_data = load_via_v2_file(DATASET_PATH)\n",
    "\n",
    "# Image metadata is where we have the regions we need\n",
    "images_data: Dict[str, ImageMetadata] = json_data['_via_img_metadata']"
   ]
  },
  {
   "cell_type": "markdown",
   "metadata": {},
   "source": [
    "## Dataset Balancing Analysis\n"
   ]
  },
  {
   "cell_type": "markdown",
   "metadata": {},
   "source": [
    "Let's verify if the dataset is balanced between classes."
   ]
  },
  {
   "cell_type": "markdown",
   "metadata": {},
   "source": [
    "### Create Dataframe\n"
   ]
  },
  {
   "cell_type": "code",
   "execution_count": 19,
   "metadata": {},
   "outputs": [],
   "source": [
    "def insert(df, row):\n",
    "\t# Insert the row into the dataframe\n",
    "\tdf.loc[len(df)] = row"
   ]
  },
  {
   "cell_type": "code",
   "execution_count": 20,
   "metadata": {},
   "outputs": [
    {
     "data": {
      "text/html": [
       "<div>\n",
       "<style scoped>\n",
       "    .dataframe tbody tr th:only-of-type {\n",
       "        vertical-align: middle;\n",
       "    }\n",
       "\n",
       "    .dataframe tbody tr th {\n",
       "        vertical-align: top;\n",
       "    }\n",
       "\n",
       "    .dataframe thead th {\n",
       "        text-align: right;\n",
       "    }\n",
       "</style>\n",
       "<table border=\"1\" class=\"dataframe\">\n",
       "  <thead>\n",
       "    <tr style=\"text-align: right;\">\n",
       "      <th></th>\n",
       "      <th>ImageName</th>\n",
       "      <th>ImageId</th>\n",
       "      <th>RegionId</th>\n",
       "      <th>Value</th>\n",
       "      <th>Edition</th>\n",
       "      <th>Side</th>\n",
       "    </tr>\n",
       "  </thead>\n",
       "  <tbody>\n",
       "    <tr>\n",
       "      <th>0</th>\n",
       "      <td>20220827_125135.jpg</td>\n",
       "      <td>20220827_125135.jpg5530448</td>\n",
       "      <td>1</td>\n",
       "      <td>25</td>\n",
       "      <td>New</td>\n",
       "      <td>Up</td>\n",
       "    </tr>\n",
       "    <tr>\n",
       "      <th>1</th>\n",
       "      <td>20220827_125135.jpg</td>\n",
       "      <td>20220827_125135.jpg5530448</td>\n",
       "      <td>2</td>\n",
       "      <td>10</td>\n",
       "      <td>New</td>\n",
       "      <td>Up</td>\n",
       "    </tr>\n",
       "    <tr>\n",
       "      <th>2</th>\n",
       "      <td>20220827_125135.jpg</td>\n",
       "      <td>20220827_125135.jpg5530448</td>\n",
       "      <td>3</td>\n",
       "      <td>50</td>\n",
       "      <td>Old</td>\n",
       "      <td>Up</td>\n",
       "    </tr>\n",
       "    <tr>\n",
       "      <th>3</th>\n",
       "      <td>20220827_125135.jpg</td>\n",
       "      <td>20220827_125135.jpg5530448</td>\n",
       "      <td>4</td>\n",
       "      <td>5</td>\n",
       "      <td>New</td>\n",
       "      <td>Up</td>\n",
       "    </tr>\n",
       "    <tr>\n",
       "      <th>4</th>\n",
       "      <td>20220827_125135.jpg</td>\n",
       "      <td>20220827_125135.jpg5530448</td>\n",
       "      <td>5</td>\n",
       "      <td>5</td>\n",
       "      <td>New</td>\n",
       "      <td>Up</td>\n",
       "    </tr>\n",
       "  </tbody>\n",
       "</table>\n",
       "</div>"
      ],
      "text/plain": [
       "             ImageName                     ImageId  RegionId Value Edition  \\\n",
       "0  20220827_125135.jpg  20220827_125135.jpg5530448         1    25     New   \n",
       "1  20220827_125135.jpg  20220827_125135.jpg5530448         2    10     New   \n",
       "2  20220827_125135.jpg  20220827_125135.jpg5530448         3    50     Old   \n",
       "3  20220827_125135.jpg  20220827_125135.jpg5530448         4     5     New   \n",
       "4  20220827_125135.jpg  20220827_125135.jpg5530448         5     5     New   \n",
       "\n",
       "  Side  \n",
       "0   Up  \n",
       "1   Up  \n",
       "2   Up  \n",
       "3   Up  \n",
       "4   Up  "
      ]
     },
     "execution_count": 20,
     "metadata": {},
     "output_type": "execute_result"
    }
   ],
   "source": [
    "# Load dataframe df with all the image data\n",
    "from colorama import Fore, Back, Style\n",
    "\n",
    "df = pd.DataFrame(columns=['ImageName', 'ImageId',\n",
    "                  'RegionId', 'Value', 'Edition', 'Side'])\n",
    "\n",
    "# Get number of coins for each type\n",
    "for image in images_data:\n",
    "    for regionId, region in enumerate(images_data[image]['regions']):\n",
    "        attributes = region['region_attributes']\n",
    "        # add row to dataframe with image name, region id, coin value, edition and side\n",
    "        try:\n",
    "            insert(df, {\n",
    "                # image name is just the first 19 characters of the image path\n",
    "                'ImageName': image[:19],\n",
    "                'ImageId': image,\n",
    "                'RegionId': regionId + 1,\n",
    "                'Value': attributes.get('Value', UNKNOWN),\n",
    "                'Edition': attributes.get('Edition', UNKNOWN),\n",
    "                'Side': attributes.get('Side', UNKNOWN),\n",
    "                # 'FullName': f'{attributes[\"Value\"]} {attributes[\"Edition\"]} {attributes[\"Side\"]}'\n",
    "            })\n",
    "        except:\n",
    "            print(Fore.RED + Style.BRIGHT +\n",
    "                  f'Error on image {image[:19]} region {regionId + 1}', )\n",
    "\n",
    "df.head()\n"
   ]
  },
  {
   "attachments": {},
   "cell_type": "markdown",
   "metadata": {},
   "source": [
    "### Remove the columns Side and Edition that are incomplete"
   ]
  },
  {
   "cell_type": "code",
   "execution_count": 22,
   "metadata": {},
   "outputs": [],
   "source": [
    "df = df.drop(columns=['Side', 'Edition'])"
   ]
  },
  {
   "cell_type": "markdown",
   "metadata": {},
   "source": [
    "### Remove uncertain classes"
   ]
  },
  {
   "cell_type": "code",
   "execution_count": 23,
   "metadata": {},
   "outputs": [
    {
     "name": "stdout",
     "output_type": "stream",
     "text": [
      "Number of uknown coins: 203\n"
     ]
    }
   ],
   "source": [
    "unknown_coins = len(df[(df['Value'] == UNKNOWN)])\n",
    "print(f'Number of uknown coins: {unknown_coins}')"
   ]
  },
  {
   "cell_type": "code",
   "execution_count": 24,
   "metadata": {},
   "outputs": [
    {
     "name": "stdout",
     "output_type": "stream",
     "text": [
      "Number of coins: 10974\n",
      "Number of coins without uncertain: 10771\n"
     ]
    }
   ],
   "source": [
    "# Those classes are the ones that we are not sure about the value of the coin.\n",
    "print(f'Number of coins: {len(df)}')\n",
    "df = df[df['Value'] != UNKNOWN]\n",
    "print(f'Number of coins without uncertain: {len(df)}')"
   ]
  },
  {
   "cell_type": "markdown",
   "metadata": {},
   "source": [
    "### Analyze the distribution of coins"
   ]
  },
  {
   "cell_type": "code",
   "execution_count": 34,
   "metadata": {},
   "outputs": [
    {
     "data": {
      "text/plain": [
       "<AxesSubplot: >"
      ]
     },
     "execution_count": 34,
     "metadata": {},
     "output_type": "execute_result"
    },
    {
     "data": {
      "image/png": "[encoded data removed]",
      "text/plain": [
       "<Figure size 640x480 with 1 Axes>"
      ]
     },
     "metadata": {},
     "output_type": "display_data"
    }
   ],
   "source": [
    "# How many coins per image\n",
    "df['ImageName'].value_counts().value_counts().hist()"
   ]
  },
  {
   "cell_type": "code",
   "execution_count": 35,
   "metadata": {},
   "outputs": [
    {
     "data": {
      "text/plain": [
       "<AxesSubplot: title={'center': 'Coin Values'}, ylabel='Value'>"
      ]
     },
     "execution_count": 35,
     "metadata": {},
     "output_type": "execute_result"
    },
    {
     "data": {
      "image/png": "[encoded data removed]",
      "text/plain": [
       "<Figure size 1300x1300 with 1 Axes>"
      ]
     },
     "metadata": {},
     "output_type": "display_data"
    }
   ],
   "source": [
    "# Create charts\n",
    "figsize = (13,13)\n",
    "# Create a pie chart for the coin values\n",
    "plt.subplot(1, 3, 1)\n",
    "plt.title('Coin Values')\n",
    "df[df['Value'] != UNKNOWN]['Value'].value_counts().plot.pie(autopct='%1.1f%%', figsize=figsize)\n",
    "\n",
    "## Create a pie chart for the coin sides\n",
    "#plt.subplot(1, 3, 2)\n",
    "#plt.title('Coin Sides')\n",
    "#df[df['Side'] != UNKNOWN]['Side'].value_counts().plot.pie(autopct='%1.1f%%', figsize=figsize)\n",
    "#\n",
    "## Create a pie chart for the coin editions\n",
    "#plt.subplot(1, 3, 3)\n",
    "#plt.title('Coin Editions')\n",
    "#df[df['Edition'] != UNKNOWN]['Edition'].value_counts().plot.pie(autopct='%1.1f%%', figsize=figsize)"
   ]
  },
  {
   "cell_type": "code",
   "execution_count": 29,
   "metadata": {},
   "outputs": [
    {
     "data": {
      "text/plain": [
       "count     10771\n",
       "unique        5\n",
       "top          10\n",
       "freq       3134\n",
       "Name: Value, dtype: object"
      ]
     },
     "execution_count": 29,
     "metadata": {},
     "output_type": "execute_result"
    }
   ],
   "source": [
    "#describe the column value\n",
    "df['Value'].describe()"
   ]
  },
  {
   "cell_type": "markdown",
   "metadata": {},
   "source": [
    "## Verify if the coins are correctly classified\n"
   ]
  },
  {
   "cell_type": "code",
   "execution_count": 41,
   "metadata": {},
   "outputs": [],
   "source": [
    "\n",
    "def crop_region(image: Image.Image, region_id: int, shape: ShapeAttributes) -> Image.Image:\n",
    "    \"\"\"\n",
    "    Crops the region from the image, and returns the cropped image.\n",
    "    \"\"\"\n",
    "\n",
    "    # Get the bounding box for the region\n",
    "    topleft, bottomright = get_bounding_box(shape, size=image.size)\n",
    "\n",
    "    return image.crop((*topleft, *bottomright))\n"
   ]
  },
  {
   "cell_type": "code",
   "execution_count": 42,
   "metadata": {},
   "outputs": [
    {
     "name": "stdout",
     "output_type": "stream",
     "text": [
      "Processing 20220827_125135.jpg... (0%)\n",
      "Processing 20220827_125146.jpg... (0%)\n",
      "Processing 20220827_125153.jpg... (0%)\n",
      "Processing 20220827_125223.jpg... (0%)\n",
      "Processing 20220827_125232.jpg... (0%)\n",
      "Processing 20220827_125250.jpg... (0%)\n"
     ]
    },
    {
     "ename": "KeyboardInterrupt",
     "evalue": "",
     "output_type": "error",
     "traceback": [
      "\u001b[1;31m---------------------------------------------------------------------------\u001b[0m",
      "\u001b[1;31mAttributeError\u001b[0m                            Traceback (most recent call last)",
      "File \u001b[1;32me:\\source\\money-counter\\python-money-detector\\.venv\\lib\\site-packages\\PIL\\ImageFile.py:503\u001b[0m, in \u001b[0;36m_save\u001b[1;34m(im, fp, tile, bufsize)\u001b[0m\n\u001b[0;32m    502\u001b[0m \u001b[39mtry\u001b[39;00m:\n\u001b[1;32m--> 503\u001b[0m     fh \u001b[39m=\u001b[39m fp\u001b[39m.\u001b[39;49mfileno()\n\u001b[0;32m    504\u001b[0m     fp\u001b[39m.\u001b[39mflush()\n",
      "\u001b[1;31mAttributeError\u001b[0m: '_idat' object has no attribute 'fileno'",
      "\nDuring handling of the above exception, another exception occurred:\n",
      "\u001b[1;31mKeyboardInterrupt\u001b[0m                         Traceback (most recent call last)",
      "Cell \u001b[1;32mIn [42], line 32\u001b[0m\n\u001b[0;32m     29\u001b[0m     os\u001b[39m.\u001b[39mmkdir(directory)\n\u001b[0;32m     31\u001b[0m crop \u001b[39m=\u001b[39m crop_region(image, region_id, region[\u001b[39m'\u001b[39m\u001b[39mshape_attributes\u001b[39m\u001b[39m'\u001b[39m])\n\u001b[1;32m---> 32\u001b[0m crop\u001b[39m.\u001b[39;49msave(\u001b[39mf\u001b[39;49m\u001b[39m'\u001b[39;49m\u001b[39m{\u001b[39;49;00mdirectory\u001b[39m}\u001b[39;49;00m\u001b[39m/\u001b[39;49m\u001b[39m{\u001b[39;49;00mfilename\u001b[39m}\u001b[39;49;00m\u001b[39m_\u001b[39;49m\u001b[39m{\u001b[39;49;00mregion_id\u001b[39m}\u001b[39;49;00m\u001b[39m.png\u001b[39;49m\u001b[39m'\u001b[39;49m)\n",
      "File \u001b[1;32me:\\source\\money-counter\\python-money-detector\\.venv\\lib\\site-packages\\PIL\\Image.py:2353\u001b[0m, in \u001b[0;36mImage.save\u001b[1;34m(self, fp, format, **params)\u001b[0m\n\u001b[0;32m   2350\u001b[0m         fp \u001b[39m=\u001b[39m builtins\u001b[39m.\u001b[39mopen(filename, \u001b[39m\"\u001b[39m\u001b[39mw+b\u001b[39m\u001b[39m\"\u001b[39m)\n\u001b[0;32m   2352\u001b[0m \u001b[39mtry\u001b[39;00m:\n\u001b[1;32m-> 2353\u001b[0m     save_handler(\u001b[39mself\u001b[39;49m, fp, filename)\n\u001b[0;32m   2354\u001b[0m \u001b[39mexcept\u001b[39;00m \u001b[39mException\u001b[39;00m:\n\u001b[0;32m   2355\u001b[0m     \u001b[39mif\u001b[39;00m open_fp:\n",
      "File \u001b[1;32me:\\source\\money-counter\\python-money-detector\\.venv\\lib\\site-packages\\PIL\\PngImagePlugin.py:1397\u001b[0m, in \u001b[0;36m_save\u001b[1;34m(im, fp, filename, chunk, save_all)\u001b[0m\n\u001b[0;32m   1395\u001b[0m     _write_multiple_frames(im, fp, chunk, rawmode, default_image, append_images)\n\u001b[0;32m   1396\u001b[0m \u001b[39melse\u001b[39;00m:\n\u001b[1;32m-> 1397\u001b[0m     ImageFile\u001b[39m.\u001b[39;49m_save(im, _idat(fp, chunk), [(\u001b[39m\"\u001b[39;49m\u001b[39mzip\u001b[39;49m\u001b[39m\"\u001b[39;49m, (\u001b[39m0\u001b[39;49m, \u001b[39m0\u001b[39;49m) \u001b[39m+\u001b[39;49m im\u001b[39m.\u001b[39;49msize, \u001b[39m0\u001b[39;49m, rawmode)])\n\u001b[0;32m   1399\u001b[0m \u001b[39mif\u001b[39;00m info:\n\u001b[0;32m   1400\u001b[0m     \u001b[39mfor\u001b[39;00m info_chunk \u001b[39min\u001b[39;00m info\u001b[39m.\u001b[39mchunks:\n",
      "File \u001b[1;32me:\\source\\money-counter\\python-money-detector\\.venv\\lib\\site-packages\\PIL\\ImageFile.py:507\u001b[0m, in \u001b[0;36m_save\u001b[1;34m(im, fp, tile, bufsize)\u001b[0m\n\u001b[0;32m    505\u001b[0m     _encode_tile(im, fp, tile, bufsize, fh)\n\u001b[0;32m    506\u001b[0m \u001b[39mexcept\u001b[39;00m (\u001b[39mAttributeError\u001b[39;00m, io\u001b[39m.\u001b[39mUnsupportedOperation) \u001b[39mas\u001b[39;00m exc:\n\u001b[1;32m--> 507\u001b[0m     _encode_tile(im, fp, tile, bufsize, \u001b[39mNone\u001b[39;49;00m, exc)\n\u001b[0;32m    508\u001b[0m \u001b[39mif\u001b[39;00m \u001b[39mhasattr\u001b[39m(fp, \u001b[39m\"\u001b[39m\u001b[39mflush\u001b[39m\u001b[39m\"\u001b[39m):\n\u001b[0;32m    509\u001b[0m     fp\u001b[39m.\u001b[39mflush()\n",
      "File \u001b[1;32me:\\source\\money-counter\\python-money-detector\\.venv\\lib\\site-packages\\PIL\\ImageFile.py:526\u001b[0m, in \u001b[0;36m_encode_tile\u001b[1;34m(im, fp, tile, bufsize, fh, exc)\u001b[0m\n\u001b[0;32m    523\u001b[0m \u001b[39mif\u001b[39;00m exc:\n\u001b[0;32m    524\u001b[0m     \u001b[39m# compress to Python file-compatible object\u001b[39;00m\n\u001b[0;32m    525\u001b[0m     \u001b[39mwhile\u001b[39;00m \u001b[39mTrue\u001b[39;00m:\n\u001b[1;32m--> 526\u001b[0m         l, s, d \u001b[39m=\u001b[39m encoder\u001b[39m.\u001b[39;49mencode(bufsize)\n\u001b[0;32m    527\u001b[0m         fp\u001b[39m.\u001b[39mwrite(d)\n\u001b[0;32m    528\u001b[0m         \u001b[39mif\u001b[39;00m s:\n",
      "\u001b[1;31mKeyboardInterrupt\u001b[0m: "
     ]
    }
   ],
   "source": [
    "# Remove dir if it exists\n",
    "if os.path.exists(SORTED_COINS_DIR):\n",
    "    # Remove recursively\n",
    "    shutil.rmtree(SORTED_COINS_DIR)\n",
    "\n",
    "os.mkdir(SORTED_COINS_DIR)\n",
    "\n",
    "DATASET_DIR = os.path.dirname(DATASET_PATH)\n",
    "BASE_PATH = json_data['_via_settings']['core']['default_filepath']\n",
    "\n",
    "count = len(images_data.values())\n",
    "\n",
    "for image_idx, metadata in enumerate(images_data.values()):\n",
    "    filename = metadata['filename']\n",
    "    percent = int((image_idx + 1) / count * 100)\n",
    "    \n",
    "    print(f'Processing {filename}... ({percent}%)')\n",
    "\n",
    "    path = os.path.join(DATASET_DIR, BASE_PATH, filename)\n",
    "    with Image.open(path) as image:\n",
    "        image = ImageOps.exif_transpose(image)\n",
    "\n",
    "        for region_id, region in enumerate(metadata['regions']):\n",
    "\n",
    "            attributes = region['region_attributes']\n",
    "            directory = f'{SORTED_COINS_DIR}/{attributes.get(\"Value\", UNKNOWN)}'\n",
    "\n",
    "            if not os.path.isdir(directory):\n",
    "                os.mkdir(directory)\n",
    "\n",
    "            crop = crop_region(image, region_id, region['shape_attributes'])\n",
    "            crop.save(f'{directory}/{filename}_{region_id}.png')\n"
   ]
  }
 ],
 "metadata": {
  "kernelspec": {
   "display_name": ".venv",
   "language": "python",
   "name": "python3"
  },
  "language_info": {
   "codemirror_mode": {
    "name": "ipython",
    "version": 3
   },
   "file_extension": ".py",
   "mimetype": "text/x-python",
   "name": "python",
   "nbconvert_exporter": "python",
   "pygments_lexer": "ipython3",
   "version": "3.10.8 (tags/v3.10.8:aaaf517, Oct 11 2022, 16:50:30) [MSC v.1933 64 bit (AMD64)]"
  },
  "orig_nbformat": 4,
  "vscode": {
   "interpreter": {
    "hash": "dca31d16848f20992eb89f8a7472940a952ffc02113be43df95621585f721965"
   }
  }
 },
 "nbformat": 4,
 "nbformat_minor": 2
}
