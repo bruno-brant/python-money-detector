{
 "cells": [
  {
   "cell_type": "code",
   "execution_count": null,
   "metadata": {},
   "outputs": [],
   "source": [
    "from __future__ import division, print_function\n",
    "\n",
    "import copy\n",
    "import io\n",
    "import json\n",
    "import os\n",
    "import sys\n",
    "import time\n",
    "\n",
    "import matplotlib\n",
    "import matplotlib.pyplot as plt\n",
    "import numpy as np\n",
    "import PIL\n",
    "import torch\n",
    "import torch.nn as nn\n",
    "import torch.optim as optim\n",
    "import torchvision\n",
    "from PIL import Image\n",
    "\n",
    "from money_counter import constants, data, engine, models, prediction, utils"
   ]
  },
  {
   "cell_type": "code",
   "execution_count": null,
   "metadata": {},
   "outputs": [],
   "source": [
    "# Create a predictor\n",
    "model, model_name = models.get_fasterrcnn_pretrained() \n",
    "model_state = torch.load(f'{constants.MODEL_FINAL_DIR}/{model_name}.pth')\n",
    "\n",
    "model.load_state_dict(model_state['model_state_dict'])\n",
    "\n",
    "predictor = prediction.Predictor(model, model_name)"
   ]
  },
  {
   "cell_type": "code",
   "execution_count": null,
   "metadata": {},
   "outputs": [],
   "source": [
    "# Load the image\n",
    "image_path = \"C:\\\\Users\\\\heavy\\\\OneDrive\\\\Desktop\\\\localhost_3000_.png\"\n",
    "\n",
    "# open image \n",
    "image = Image.open(image_path)\n"
   ]
  },
  {
   "cell_type": "code",
   "execution_count": null,
   "metadata": {},
   "outputs": [],
   "source": [
    "result = predictor.predict(image)\n",
    "\n",
    "result.keys()\n",
    "\n",
    "for score in result['scores']:\n",
    "    print('score:', score.item())\n"
   ]
  },
  {
   "cell_type": "code",
   "execution_count": null,
   "metadata": {},
   "outputs": [],
   "source": [
    "# create a inverted map of the class index to the class name\n",
    "label_map = {idx: class_name for idx, class_name in enumerate(constants.CLASSES)}\n",
    "label_map"
   ]
  },
  {
   "cell_type": "code",
   "execution_count": null,
   "metadata": {},
   "outputs": [],
   "source": [
    "from money_counter.validation_utils import render_image_and_boxes\n",
    "\n",
    "# convert pil image to tensor\n",
    "image_t = torchvision.transforms.functional.to_tensor(image) # type: ignore\n",
    "render_image_and_boxes(image_t, label_map, predicted=result, min_score=0.1)\n",
    "\n"
   ]
  }
 ],
 "metadata": {
  "kernelspec": {
   "display_name": ".VENV",
   "language": "python",
   "name": "python3"
  },
  "language_info": {
   "codemirror_mode": {
    "name": "ipython",
    "version": 3
   },
   "file_extension": ".py",
   "mimetype": "text/x-python",
   "name": "python",
   "nbconvert_exporter": "python",
   "pygments_lexer": "ipython3",
   "version": "3.10.8 (tags/v3.10.8:aaaf517, Oct 11 2022, 16:50:30) [MSC v.1933 64 bit (AMD64)]"
  },
  "orig_nbformat": 4,
  "vscode": {
   "interpreter": {
    "hash": "dca31d16848f20992eb89f8a7472940a952ffc02113be43df95621585f721965"
   }
  }
 },
 "nbformat": 4,
 "nbformat_minor": 2
}
