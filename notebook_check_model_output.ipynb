{
 "cells": [
  {
   "cell_type": "code",
   "execution_count": null,
   "metadata": {},
   "outputs": [],
   "source": [
    "# Train torchvision with our dataset:\n",
    "# https://pytorch.org/tutorials/beginner/finetuning_torchvision_models_tutorial.html\n",
    "# https://pytorch.org/tutorials/intermediate/torchvision_tutorial.html\n",
    "\n",
    "from __future__ import division, print_function\n",
    "\n",
    "import copy\n",
    "import json\n",
    "import os\n",
    "import time\n",
    "\n",
    "import matplotlib.pyplot as plt\n",
    "import numpy as np\n",
    "import torch\n",
    "import torch.nn as nn\n",
    "import torch.optim as optim\n",
    "import torchvision\n",
    "from torchvision import datasets, models, transforms\n",
    "\n",
    "from money_counter import data\n",
    "\n",
    "\n",
    "# Torch enable cuda\n",
    "device = torch.device(\"cuda:0\" if torch.cuda.is_available() else \"cpu\")\n",
    "\n",
    "print(\"=======================================================================\")\n",
    "print(\" PyTorch version:     \", torch.__version__)\n",
    "print(\" Torchvision version: \", torchvision.__version__)\n",
    "print(\" Device:              \", device)\n",
    "print(\"=======================================================================\")\n"
   ]
  },
  {
   "cell_type": "code",
   "execution_count": null,
   "metadata": {},
   "outputs": [],
   "source": [
    "ASSETS_DIR = '../assets'\n",
    "DATASET_DIR = f'{ASSETS_DIR}/coins_dataset'\n",
    "MODEL_STATE_DIR = f'../model_state'"
   ]
  },
  {
   "cell_type": "markdown",
   "metadata": {},
   "source": [
    "Load the model"
   ]
  },
  {
   "cell_type": "code",
   "execution_count": null,
   "metadata": {},
   "outputs": [],
   "source": [
    "import typing\n",
    "from money_counter import data, models\n",
    "from torch.utils.data import Subset\n",
    "\n",
    "# Load the model\n",
    "model, model_name = models.get_fasterrcnn_v2_pretrained()\n",
    "\n",
    "# Load the latest weights\n",
    "version_manager = models.VersionManager(MODEL_STATE_DIR)\n",
    "\n",
    "\n",
    "version_manager.load_model(model_name, model, mode=\"best\")\n"
   ]
  },
  {
   "cell_type": "markdown",
   "metadata": {},
   "source": [
    "Load the data"
   ]
  },
  {
   "cell_type": "code",
   "execution_count": null,
   "metadata": {},
   "outputs": [],
   "source": [
    "data_loader_train, data_loader_test = data.get_data_loaders(DATASET_DIR)\n"
   ]
  },
  {
   "cell_type": "markdown",
   "metadata": {},
   "source": [
    "Draw the first 10 images with the boxes"
   ]
  },
  {
   "cell_type": "code",
   "execution_count": null,
   "metadata": {},
   "outputs": [],
   "source": [
    "from typing import List\n",
    "from money_counter.models import PredictedTarget\n",
    "from money_counter.validation_utils import render_image_and_boxes\n",
    "from money_counter import constants as const\n",
    "from money_counter.engine import apply_nms\n",
    "\n",
    "model = model.to(device)\n",
    "model.eval()\n",
    "\n",
    "label_map = {label: i for i, label in enumerate(const.CLASSES)}\n",
    "\n",
    "with torch.no_grad():\n",
    "    for _ in range(5):\n",
    "        # Get some images from disk\n",
    "        images, targets = next(iter(data_loader_test))\n",
    "        images = list(image.to(device) for image in images)\n",
    "        targets = [{k: v.to(device) for k, v in t.items()} for t in targets]\n",
    "\n",
    "        # Compute predictions\n",
    "        predicted_targets = typing.cast(List[PredictedTarget], model(images))\n",
    "\n",
    "        # apply nms\n",
    "        apply_nms(predicted_targets, nms_threshold=0.5)\n",
    "\n",
    "        # Render the image and the predictions\n",
    "        for image, target, predicted in zip(images, targets, predicted_targets):\n",
    "            # Move back to CPU\n",
    "            image = image.cpu()\n",
    "            target = {k: v.cpu() for k, v in target.items()}\n",
    "            predicted = {k: v.cpu() for k, v in predicted.items()}\n",
    "\n",
    "            subset_test = typing.cast(Subset, data_loader_test.dataset)\n",
    "            data_set_test = typing.cast(data.CoinsDataset, subset_test.dataset)\n",
    "\n",
    "            inverted_label_map = {v: k for k, v in label_map.items()}\n",
    "\n",
    "            render_image_and_boxes(\n",
    "                image,  inverted_label_map, None, predicted, 0.5)\n"
   ]
  }
 ],
 "metadata": {
  "kernelspec": {
   "display_name": ".venv",
   "language": "python",
   "name": "python3"
  },
  "language_info": {
   "codemirror_mode": {
    "name": "ipython",
    "version": 3
   },
   "file_extension": ".py",
   "mimetype": "text/x-python",
   "name": "python",
   "nbconvert_exporter": "python",
   "pygments_lexer": "ipython3",
   "version": "3.10.8"
  },
  "orig_nbformat": 4,
  "vscode": {
   "interpreter": {
    "hash": "dca31d16848f20992eb89f8a7472940a952ffc02113be43df95621585f721965"
   }
  }
 },
 "nbformat": 4,
 "nbformat_minor": 2
}
